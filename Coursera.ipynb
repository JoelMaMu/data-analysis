{
  "nbformat": 4,
  "nbformat_minor": 0,
  "metadata": {
    "colab": {
      "provenance": [],
      "authorship_tag": "ABX9TyOiRPODTvSvEWrBnOOVwjqm",
      "include_colab_link": true
    },
    "kernelspec": {
      "name": "python3",
      "display_name": "Python 3"
    },
    "language_info": {
      "name": "python"
    }
  },
  "cells": [
    {
      "cell_type": "markdown",
      "metadata": {
        "id": "view-in-github",
        "colab_type": "text"
      },
      "source": [
        "<a href=\"https://colab.research.google.com/github/JoelMaMu/data-analysis/blob/main/Coursera.ipynb\" target=\"_parent\"><img src=\"https://colab.research.google.com/assets/colab-badge.svg\" alt=\"Open In Colab\"/></a>"
      ]
    },
    {
      "cell_type": "markdown",
      "source": [
        "#**Final Exercise**"
      ],
      "metadata": {
        "id": "CDNcaIPCbWyu"
      }
    },
    {
      "cell_type": "markdown",
      "source": [
        "##**Introduction**"
      ],
      "metadata": {
        "id": "Zo_KXl5RbnNQ"
      }
    },
    {
      "cell_type": "markdown",
      "source": [
        "Data science languages\n",
        "1. Python\n",
        "2. R\n",
        "3. Julia\n",
        "4. Scala\n",
        "5. SQL\n",
        "6. MATLAB\n",
        "7. Java\n",
        "8. SAS"
      ],
      "metadata": {
        "id": "ponOm4s3cLEP"
      }
    },
    {
      "cell_type": "markdown",
      "source": [
        "Data sciences libraries\n",
        "1. Pandas\n",
        "2. NumPy\n",
        "3. Matplotlib\n",
        "4. Seaborn\n",
        "5. Scikit-learn\n",
        "6. TensorFlow\n",
        "7. PyTorch\n",
        "8. XGBoost"
      ],
      "metadata": {
        "id": "506pfnm_cRDH"
      }
    },
    {
      "cell_type": "markdown",
      "source": [
        "Data sceinces tools\n",
        "\n",
        "| Outils             | Description                                       |\n",
        "|---------------------|---------------------------------------------------|\n",
        "| Jupyter Notebook    | Environnement interactif pour Python et R        |\n",
        "| RStudio            | IDE pour le langage R                             |\n",
        "| Tableau            | Outil de visualisation de données                 |\n",
        "| Power BI           | Outil d'analyse et de reporting                   |\n",
        "| Apache Spark       | Outil de traitement distribué pour Big Data       |\n",
        "| Hadoop             | Écosystème pour le stockage et traitement de données volumineuses |\n"
      ],
      "metadata": {
        "id": "OmLLV-mhchoz"
      }
    },
    {
      "cell_type": "markdown",
      "source": [
        "Artimetics exercises\n",
        "1. Addition : `5 + 3 = 8`\n",
        "2. Soustraction : `10 - 7 = 3`\n",
        "3. Multiplication : `4 * 2 = 8`\n",
        "4. Division : `9 / 3 = 3`\n",
        "5. Puissance : `2 ** 3 = 8`\n",
        "6. Modulo : `10 % 3 = 1`"
      ],
      "metadata": {
        "id": "bsKEUmxncqDV"
      }
    },
    {
      "cell_type": "code",
      "source": [
        "# Multiplication and addition\n",
        "a = 5\n",
        "b = 3\n",
        "multiplication = a * b\n",
        "addition = a + b\n",
        "\n",
        "print(\"Result of multiplication:\", multiplication)\n",
        "print(\"addition result:\", addition)\n"
      ],
      "metadata": {
        "colab": {
          "base_uri": "https://localhost:8080/"
        },
        "id": "9quVAaZbbiEC",
        "outputId": "f6aae8be-b799-4ba5-d3ab-7c522c8805ac"
      },
      "execution_count": 10,
      "outputs": [
        {
          "output_type": "stream",
          "name": "stdout",
          "text": [
            "Result of multiplication: 15\n",
            "addition result: 8\n"
          ]
        }
      ]
    },
    {
      "cell_type": "code",
      "source": [
        "#Conversion\n",
        "minutes = 120\n",
        "hours = minutes / 60\n",
        "\n",
        "print(f\"{minutes} minutes correspond to {hours} hours.\")\n"
      ],
      "metadata": {
        "colab": {
          "base_uri": "https://localhost:8080/"
        },
        "id": "KJ_Hp99LdCIM",
        "outputId": "f5061a55-bcab-4e58-e954-59e4db63fb29"
      },
      "execution_count": 7,
      "outputs": [
        {
          "output_type": "stream",
          "name": "stdout",
          "text": [
            "120 minutes correspond to 2.0 hours.\n"
          ]
        }
      ]
    },
    {
      "cell_type": "markdown",
      "source": [
        "Objectives\n",
        "1. Master programming languages for data science.\n",
        "2. Understand and use libraries and frameworks for analysis and machine learning.\n",
        "3. Learn to manipulate, process and visualize data.\n",
        "4. Develop machine learning and AI models."
      ],
      "metadata": {
        "id": "um7CfzhPdPJ-"
      }
    },
    {
      "cell_type": "markdown",
      "source": [
        "Autor : joël"
      ],
      "metadata": {
        "id": "bsTtWnQDdfpu"
      }
    },
    {
      "cell_type": "code",
      "source": [],
      "metadata": {
        "id": "pm7BF7i6dN0g"
      },
      "execution_count": null,
      "outputs": []
    }
  ]
}